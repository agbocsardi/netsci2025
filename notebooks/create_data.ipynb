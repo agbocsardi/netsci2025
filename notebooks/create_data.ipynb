{
 "cells": [
  {
   "cell_type": "code",
   "execution_count": 12,
   "metadata": {
    "vscode": {
     "languageId": "python"
    }
   },
   "outputs": [],
   "source": [
    "import pandas as pd\n",
    "import torch\n",
    "from torch_geometric.data import Data, InMemoryDataset"
   ]
  },
  {
   "cell_type": "code",
   "execution_count": 11,
   "metadata": {
    "vscode": {
     "languageId": "python"
    }
   },
   "outputs": [],
   "source": [
    "edge_list = pd.read_csv('../data/netsci2025_content_share.csv')\n",
    "variable_node_attrs = pd.read_csv('../data/netsci2025_variable_attributes.csv')\n",
    "constant_node_attrs = pd.read_csv('../data/netsci2025_constant_node_attributes.csv')"
   ]
  },
  {
   "cell_type": "code",
   "execution_count": null,
   "metadata": {
    "vscode": {
     "languageId": "python"
    }
   },
   "outputs": [],
   "source": [
    "class SnapshotDataset(InMemoryDataset):\n",
    "    def __init__(self, edge_list_df, var_node_attr_df, static_node_features_df,\n",
    "                root=None, transform=None, pre_transform=None,\n",
    "                selected_edge_features=None, selected_var_node_features=None, \n",
    "                selected_static_node_features=None):\n",
    "        self.edge_list_df = edge_list_df\n",
    "        self.var_node_attr_df = var_node_attr_df\n",
    "        self.static_node_features_df = static_node_features_df\n",
    "        \n",
    "        # Default to all features if not specified\n",
    "        self.selected_edge_features = selected_edge_features or (edge_list_df.columns.difference(['timestamp', 'sender', 'receiver', 'edge_type']) if 'edge_type' in edge_list_df else [])\n",
    "        \n",
    "        super(DynamicGraphDataset, self).__init__(root, transform, pre_transform)\n",
    "        \n",
    "        # Process the data into PyG format and store it in processed paths\n",
    "        self.data_list = self.process()"
   ]
  }
 ],
 "metadata": {
  "language_info": {
   "name": "plaintext"
  }
 },
 "nbformat": 4,
 "nbformat_minor": 2
}
